{
  "nbformat": 4,
  "nbformat_minor": 0,
  "metadata": {
    "colab": {
      "name": "Untitled6.ipynb",
      "provenance": [],
      "authorship_tag": "ABX9TyPXU2e7dSG0k/aqPMO5zJWH"
    },
    "kernelspec": {
      "name": "python3",
      "display_name": "Python 3"
    },
    "language_info": {
      "name": "python"
    }
  },
  "cells": [
    {
      "cell_type": "markdown",
      "metadata": {
        "id": "ZqsgZ7VJBJjH"
      },
      "source": [
        "# Practicing Data Science\n",
        "### Using ML\n",
        "\n",
        "In this colab doc you'll find my data dcience practice. "
      ]
    },
    {
      "cell_type": "code",
      "metadata": {
        "id": "diu1bVNlOJ76"
      },
      "source": [
        "import pandas as pd\n",
        "import numpy as np\n",
        "import matplotlib.pyplot as plt\n",
        "from sklearn.model_selection import train_test_split\n",
        "from sklearn.preprocessing import OneHotEncoder\n",
        "from sklearn.linear_model import LinearRegression\n",
        "from sklearn.model_selection import train_test_split\n"
      ],
      "execution_count": null,
      "outputs": []
    },
    {
      "cell_type": "code",
      "metadata": {
        "id": "cM0aWt80OWId"
      },
      "source": [
        "data={'cars':['toyota','subaru','nissan','honda'],\n",
        "      'price':[3200,2800,2400,1750],\n",
        "      'features':[24,20,18,30],\n",
        "      'colors':['red','white','blue','black'],\n",
        "      'doors':[4,5,4,2]\n",
        "}"
      ],
      "execution_count": null,
      "outputs": []
    },
    {
      "cell_type": "code",
      "metadata": {
        "colab": {
          "base_uri": "https://localhost:8080/",
          "height": 173
        },
        "id": "fSXp5d9CO5L6",
        "outputId": "85ae8f3b-86b8-4adf-d4bf-6d7a18aa8429"
      },
      "source": [
        "df=pd.DataFrame(data)\n",
        "df"
      ],
      "execution_count": null,
      "outputs": [
        {
          "output_type": "execute_result",
          "data": {
            "text/html": [
              "<div>\n",
              "<style scoped>\n",
              "    .dataframe tbody tr th:only-of-type {\n",
              "        vertical-align: middle;\n",
              "    }\n",
              "\n",
              "    .dataframe tbody tr th {\n",
              "        vertical-align: top;\n",
              "    }\n",
              "\n",
              "    .dataframe thead th {\n",
              "        text-align: right;\n",
              "    }\n",
              "</style>\n",
              "<table border=\"1\" class=\"dataframe\">\n",
              "  <thead>\n",
              "    <tr style=\"text-align: right;\">\n",
              "      <th></th>\n",
              "      <th>cars</th>\n",
              "      <th>price</th>\n",
              "      <th>features</th>\n",
              "      <th>colors</th>\n",
              "      <th>doors</th>\n",
              "    </tr>\n",
              "  </thead>\n",
              "  <tbody>\n",
              "    <tr>\n",
              "      <th>0</th>\n",
              "      <td>toyota</td>\n",
              "      <td>3200</td>\n",
              "      <td>24</td>\n",
              "      <td>red</td>\n",
              "      <td>4</td>\n",
              "    </tr>\n",
              "    <tr>\n",
              "      <th>1</th>\n",
              "      <td>subaru</td>\n",
              "      <td>2800</td>\n",
              "      <td>20</td>\n",
              "      <td>white</td>\n",
              "      <td>5</td>\n",
              "    </tr>\n",
              "    <tr>\n",
              "      <th>2</th>\n",
              "      <td>nissan</td>\n",
              "      <td>2400</td>\n",
              "      <td>18</td>\n",
              "      <td>blue</td>\n",
              "      <td>4</td>\n",
              "    </tr>\n",
              "    <tr>\n",
              "      <th>3</th>\n",
              "      <td>honda</td>\n",
              "      <td>1750</td>\n",
              "      <td>30</td>\n",
              "      <td>black</td>\n",
              "      <td>2</td>\n",
              "    </tr>\n",
              "  </tbody>\n",
              "</table>\n",
              "</div>"
            ],
            "text/plain": [
              "     cars  price  features colors  doors\n",
              "0  toyota   3200        24    red      4\n",
              "1  subaru   2800        20  white      5\n",
              "2  nissan   2400        18   blue      4\n",
              "3   honda   1750        30  black      2"
            ]
          },
          "metadata": {
            "tags": []
          },
          "execution_count": 3
        }
      ]
    },
    {
      "cell_type": "code",
      "metadata": {
        "id": "C1O4iHeldUWw"
      },
      "source": [
        "for label, content in df.items():\n",
        "  if pd.api.types.is_string_dtype(content):\n",
        "    df[label]=content.astype('category').cat.as_ordered()"
      ],
      "execution_count": null,
      "outputs": []
    },
    {
      "cell_type": "code",
      "metadata": {
        "id": "JLRAR1ZtPArp"
      },
      "source": [
        "# X=df.drop(['price'],axis=1)\n",
        "# X.info()\n",
        "X=df[['doors','features']]"
      ],
      "execution_count": null,
      "outputs": []
    },
    {
      "cell_type": "code",
      "metadata": {
        "id": "W4HrLrCBWi-h"
      },
      "source": [
        "y=df['price']"
      ],
      "execution_count": null,
      "outputs": []
    },
    {
      "cell_type": "code",
      "metadata": {
        "id": "xoEIueaMYDQ5"
      },
      "source": [
        "X_train, x_test, y_train, y_test=train_test_split(X,y,test_size=.2,random_state=42)"
      ],
      "execution_count": null,
      "outputs": []
    },
    {
      "cell_type": "code",
      "metadata": {
        "colab": {
          "base_uri": "https://localhost:8080/"
        },
        "id": "hZET-UgLjR7H",
        "outputId": "f7c5d571-e96e-46bb-f4a6-2c8251e25445"
      },
      "source": [
        "y_test"
      ],
      "execution_count": null,
      "outputs": [
        {
          "output_type": "execute_result",
          "data": {
            "text/plain": [
              "1    2800\n",
              "Name: price, dtype: int64"
            ]
          },
          "metadata": {
            "tags": []
          },
          "execution_count": 49
        }
      ]
    },
    {
      "cell_type": "code",
      "metadata": {
        "colab": {
          "base_uri": "https://localhost:8080/"
        },
        "id": "SEqhip7KO_0x",
        "outputId": "9e77c6ab-01ba-4bfb-ec2c-c4395d667b16"
      },
      "source": [
        "lr=LinearRegression()\n",
        "lr.fit(X,y)"
      ],
      "execution_count": null,
      "outputs": [
        {
          "output_type": "execute_result",
          "data": {
            "text/plain": [
              "LinearRegression(copy_X=True, fit_intercept=True, n_jobs=None, normalize=False)"
            ]
          },
          "metadata": {
            "tags": []
          },
          "execution_count": 54
        }
      ]
    },
    {
      "cell_type": "code",
      "metadata": {
        "colab": {
          "base_uri": "https://localhost:8080/"
        },
        "id": "SmtD8VZcWu_3",
        "outputId": "d6b56118-39bb-4d5b-bf12-66569b6acc69"
      },
      "source": [
        "lr.score(X,y)\n",
        "# predict=lr.predict()\n",
        "lr.coef_\n"
      ],
      "execution_count": null,
      "outputs": [
        {
          "output_type": "execute_result",
          "data": {
            "text/plain": [
              "array([638.18181818,  70.22727273])"
            ]
          },
          "metadata": {
            "tags": []
          },
          "execution_count": 57
        }
      ]
    },
    {
      "cell_type": "code",
      "metadata": {
        "id": "9DpifmBVm6Yj"
      },
      "source": [
        "def sum_of_sq(X):\n",
        "  avg=X.mean()\n",
        "  X_=[np.square(i-avg) for i in X]\n",
        "  return sum(X_)\n",
        "    "
      ],
      "execution_count": null,
      "outputs": []
    },
    {
      "cell_type": "code",
      "metadata": {
        "id": "nFLWJF1csJu4"
      },
      "source": [
        "med=np.asarray([12,11,54,73,22,1,3])"
      ],
      "execution_count": null,
      "outputs": []
    },
    {
      "cell_type": "code",
      "metadata": {
        "colab": {
          "base_uri": "https://localhost:8080/"
        },
        "id": "tKleHE6eFVFO",
        "outputId": "ef20d9e4-a18f-4af8-dfb2-b578a161f9d8"
      },
      "source": [
        "sum_of_sq(med)"
      ],
      "execution_count": null,
      "outputs": [
        {
          "output_type": "execute_result",
          "data": {
            "text/plain": [
              "4578.857142857143"
            ]
          },
          "metadata": {
            "tags": []
          },
          "execution_count": 20
        }
      ]
    },
    {
      "cell_type": "code",
      "metadata": {
        "colab": {
          "base_uri": "https://localhost:8080/"
        },
        "id": "AqraeUs7FVS7",
        "outputId": "077c2a5c-8494-431b-a49c-b9688889c408"
      },
      "source": [
        "np.ss(np.square([2,2,2]))"
      ],
      "execution_count": null,
      "outputs": [
        {
          "output_type": "execute_result",
          "data": {
            "text/plain": [
              "12"
            ]
          },
          "metadata": {
            "tags": []
          },
          "execution_count": 27
        }
      ]
    },
    {
      "cell_type": "code",
      "metadata": {
        "colab": {
          "base_uri": "https://localhost:8080/"
        },
        "id": "KRZv8i2asubC",
        "outputId": "04a7ef8e-5531-433f-bcdd-648479b0090d"
      },
      "source": [
        "954/21"
      ],
      "execution_count": null,
      "outputs": [
        {
          "output_type": "execute_result",
          "data": {
            "text/plain": [
              "45.42857142857143"
            ]
          },
          "metadata": {
            "tags": []
          },
          "execution_count": 28
        }
      ]
    },
    {
      "cell_type": "code",
      "metadata": {
        "id": "sH7I1X7jHEoo",
        "colab": {
          "base_uri": "https://localhost:8080/"
        },
        "outputId": "ae21cbea-8ad2-45af-bec3-c2675179a973"
      },
      "source": [
        "np.corrcoef(df['price'],df['doors'])"
      ],
      "execution_count": null,
      "outputs": [
        {
          "output_type": "execute_result",
          "data": {
            "text/plain": [
              "array([[1.        , 0.78726782],\n",
              "       [0.78726782, 1.        ]])"
            ]
          },
          "metadata": {
            "tags": []
          },
          "execution_count": 6
        }
      ]
    },
    {
      "cell_type": "code",
      "metadata": {
        "id": "jINBXkof3ae2"
      },
      "source": [
        "plt.scatter(df['p'])"
      ],
      "execution_count": null,
      "outputs": []
    },
    {
      "cell_type": "code",
      "metadata": {
        "colab": {
          "base_uri": "https://localhost:8080/"
        },
        "id": "CXX1pYXMBfRX",
        "outputId": "6a0f3b30-cfa2-41ad-9863-30d146b9e2f6"
      },
      "source": [
        "np.mean(np.asarray([1,2,2,2,0,3,3,3,5,2,1,1,1,1,1]))"
      ],
      "execution_count": null,
      "outputs": [
        {
          "output_type": "execute_result",
          "data": {
            "text/plain": [
              "1.8666666666666667"
            ]
          },
          "metadata": {
            "tags": []
          },
          "execution_count": 12
        }
      ]
    },
    {
      "cell_type": "code",
      "metadata": {
        "id": "kJ_dyiYcBnpa"
      },
      "source": [
        ""
      ],
      "execution_count": null,
      "outputs": []
    }
  ]
}